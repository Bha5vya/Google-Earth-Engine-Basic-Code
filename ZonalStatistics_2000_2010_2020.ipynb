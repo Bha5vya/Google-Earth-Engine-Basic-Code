{
  "nbformat": 4,
  "nbformat_minor": 0,
  "metadata": {
    "colab": {
      "provenance": [],
      "authorship_tag": "ABX9TyPpInAqTmL4UQlXeiY1aWC6",
      "include_colab_link": true
    },
    "kernelspec": {
      "name": "python3",
      "display_name": "Python 3"
    },
    "language_info": {
      "name": "python"
    }
  },
  "cells": [
    {
      "cell_type": "markdown",
      "metadata": {
        "id": "view-in-github",
        "colab_type": "text"
      },
      "source": [
        "<a href=\"https://colab.research.google.com/github/Bha5vya/Google-Earth-Engine-Basic-Code/blob/main/ZonalStatistics_2000_2010_2020.ipynb\" target=\"_parent\"><img src=\"https://colab.research.google.com/assets/colab-badge.svg\" alt=\"Open In Colab\"/></a>"
      ]
    },
    {
      "cell_type": "code",
      "execution_count": null,
      "metadata": {
        "id": "A_f4SQAqyjFQ",
        "colab": {
          "base_uri": "https://localhost:8080/",
          "height": 17
        },
        "outputId": "443bdaa3-bc7e-47a3-a239-b2c7af2b8e60"
      },
      "outputs": [
        {
          "output_type": "display_data",
          "data": {
            "text/plain": [
              "<IPython.core.display.HTML object>"
            ],
            "text/html": [
              "\n",
              "            <style>\n",
              "                .geemap-dark {\n",
              "                    --jp-widgets-color: white;\n",
              "                    --jp-widgets-label-color: white;\n",
              "                    --jp-ui-font-color1: white;\n",
              "                    --jp-layout-color2: #454545;\n",
              "                    background-color: #383838;\n",
              "                }\n",
              "\n",
              "                .geemap-dark .jupyter-button {\n",
              "                    --jp-layout-color3: #383838;\n",
              "                }\n",
              "\n",
              "                .geemap-colab {\n",
              "                    background-color: var(--colab-primary-surface-color, white);\n",
              "                }\n",
              "\n",
              "                .geemap-colab .jupyter-button {\n",
              "                    --jp-layout-color3: var(--colab-primary-surface-color, white);\n",
              "                }\n",
              "            </style>\n",
              "            "
            ]
          },
          "metadata": {}
        }
      ],
      "source": [
        "import geemap.geemap as import_map\n",
        "import ee"
      ]
    },
    {
      "cell_type": "code",
      "source": [
        "ee.Authenticate()\n",
        "ee.Initialize(project='bha5vya')\n",
        "map=import_map.Map()\n",
        "\n"
      ],
      "metadata": {
        "colab": {
          "base_uri": "https://localhost:8080/",
          "height": 17
        },
        "id": "zM-5BFuBysIr",
        "outputId": "c6781ca8-aca6-4f32-bb69-67812bbfebd9"
      },
      "execution_count": null,
      "outputs": [
        {
          "output_type": "display_data",
          "data": {
            "text/plain": [
              "<IPython.core.display.HTML object>"
            ],
            "text/html": [
              "\n",
              "            <style>\n",
              "                .geemap-dark {\n",
              "                    --jp-widgets-color: white;\n",
              "                    --jp-widgets-label-color: white;\n",
              "                    --jp-ui-font-color1: white;\n",
              "                    --jp-layout-color2: #454545;\n",
              "                    background-color: #383838;\n",
              "                }\n",
              "\n",
              "                .geemap-dark .jupyter-button {\n",
              "                    --jp-layout-color3: #383838;\n",
              "                }\n",
              "\n",
              "                .geemap-colab {\n",
              "                    background-color: var(--colab-primary-surface-color, white);\n",
              "                }\n",
              "\n",
              "                .geemap-colab .jupyter-button {\n",
              "                    --jp-layout-color3: var(--colab-primary-surface-color, white);\n",
              "                }\n",
              "            </style>\n",
              "            "
            ]
          },
          "metadata": {}
        }
      ]
    },
    {
      "cell_type": "code",
      "source": [
        "Districts=ee.FeatureCollection('projects/bha5vya/assets/India_districtboundaries')"
      ],
      "metadata": {
        "colab": {
          "base_uri": "https://localhost:8080/",
          "height": 17
        },
        "collapsed": true,
        "id": "PIysjMKMzvBT",
        "outputId": "af19cc80-93ac-4247-c932-6dc01ea7d2ea"
      },
      "execution_count": null,
      "outputs": [
        {
          "output_type": "display_data",
          "data": {
            "text/plain": [
              "<IPython.core.display.HTML object>"
            ],
            "text/html": [
              "\n",
              "            <style>\n",
              "                .geemap-dark {\n",
              "                    --jp-widgets-color: white;\n",
              "                    --jp-widgets-label-color: white;\n",
              "                    --jp-ui-font-color1: white;\n",
              "                    --jp-layout-color2: #454545;\n",
              "                    background-color: #383838;\n",
              "                }\n",
              "\n",
              "                .geemap-dark .jupyter-button {\n",
              "                    --jp-layout-color3: #383838;\n",
              "                }\n",
              "\n",
              "                .geemap-colab {\n",
              "                    background-color: var(--colab-primary-surface-color, white);\n",
              "                }\n",
              "\n",
              "                .geemap-colab .jupyter-button {\n",
              "                    --jp-layout-color3: var(--colab-primary-surface-color, white);\n",
              "                }\n",
              "            </style>\n",
              "            "
            ]
          },
          "metadata": {}
        }
      ]
    },
    {
      "cell_type": "code",
      "source": [
        "tree_2000=ee.ImageCollection(\"MODIS/006/MOD44B\").filterDate('2000-01-01', '2000-12-31').select(['Percent_Tree_Cover']).mean().clip(Districts)\n",
        "symbology=  [ \"#F7FCF5\", \"#E8F8E3\", \"#D9F4D2\", \"#CBF0C1\", \"#BEECB1\",\"#B0E7A2\", \"#A3E394\", \"#97DF86\", \"#8BDC79\", \"#7FD86C\",\"#74D460\", \"#6AD154\", \"#5FCE49\", \"#55CB3E\", \"#4CC834\",\"#42C52A\", \"#39C220\", \"#30C018\", \"#27BD10\", \"#1EBA08\",\"#16B700\", \"#13AE00\", \"#10A600\", \"#0D9E00\", \"#0A9600\",\n",
        "    \"#088E00\", \"#068600\", \"#057F00\", \"#047700\", \"#036F00\",\"#026800\", \"#016000\", \"#015900\", \"#015200\", \"#014B00\",\"#014400\", \"#013D00\", \"#013700\", \"#013000\", \"#012A00\",\"#012400\", \"#011E00\", \"#011800\", \"#011200\", \"#010C00\",\"#010600\", \"#010300\", \"#010100\", \"#000000\"]\n",
        "viz={'min':0,'max':100,\"palette\":symbology}\n",
        "map.addLayer(tree_2000,viz,'Tree Cover India 2000')\n",
        "\n",
        "import os\n",
        "output_directory=os.path.join(os.path.expanduser('~'),'Downloads')\n",
        "India_treecover=os.path.join(output_directory,'India_treecover.csv')\n",
        "if not os.path.exists(output_directory):\n",
        "  os.makedirs(output_directory)\n",
        "import_map.zonal_stats(tree_2000,Districts,India_treecover,'MEAN',scale=250)\n"
      ],
      "metadata": {
        "colab": {
          "base_uri": "https://localhost:8080/",
          "height": 104
        },
        "id": "5xCMBPus4jZG",
        "outputId": "863b16c0-3aeb-4523-9a26-cbb42d51ae1e"
      },
      "execution_count": 23,
      "outputs": [
        {
          "output_type": "display_data",
          "data": {
            "text/plain": [
              "<IPython.core.display.HTML object>"
            ],
            "text/html": [
              "\n",
              "            <style>\n",
              "                .geemap-dark {\n",
              "                    --jp-widgets-color: white;\n",
              "                    --jp-widgets-label-color: white;\n",
              "                    --jp-ui-font-color1: white;\n",
              "                    --jp-layout-color2: #454545;\n",
              "                    background-color: #383838;\n",
              "                }\n",
              "\n",
              "                .geemap-dark .jupyter-button {\n",
              "                    --jp-layout-color3: #383838;\n",
              "                }\n",
              "\n",
              "                .geemap-colab {\n",
              "                    background-color: var(--colab-primary-surface-color, white);\n",
              "                }\n",
              "\n",
              "                .geemap-colab .jupyter-button {\n",
              "                    --jp-layout-color3: var(--colab-primary-surface-color, white);\n",
              "                }\n",
              "            </style>\n",
              "            "
            ]
          },
          "metadata": {}
        },
        {
          "output_type": "stream",
          "name": "stdout",
          "text": [
            "Computing statistics ...\n",
            "Generating URL ...\n",
            "Downloading data from https://earthengine.googleapis.com/v1/projects/bha5vya/tables/632d9338c0fbf301855e560e51718b74-3a73bc1a1484afd9e9d55240255bf367:getFeatures\n",
            "Please wait ...\n",
            "Data downloaded to /root/Downloads/India_treecover.csv\n"
          ]
        }
      ]
    },
    {
      "cell_type": "code",
      "source": [],
      "metadata": {
        "colab": {
          "base_uri": "https://localhost:8080/",
          "height": 104
        },
        "id": "IwPDO9xnzrcl",
        "outputId": "cc5fe8bf-0a98-4693-f5d2-2211b0eba25f"
      },
      "execution_count": null,
      "outputs": [
        {
          "output_type": "display_data",
          "data": {
            "text/plain": [
              "<IPython.core.display.HTML object>"
            ],
            "text/html": [
              "\n",
              "            <style>\n",
              "                .geemap-dark {\n",
              "                    --jp-widgets-color: white;\n",
              "                    --jp-widgets-label-color: white;\n",
              "                    --jp-ui-font-color1: white;\n",
              "                    --jp-layout-color2: #454545;\n",
              "                    background-color: #383838;\n",
              "                }\n",
              "\n",
              "                .geemap-dark .jupyter-button {\n",
              "                    --jp-layout-color3: #383838;\n",
              "                }\n",
              "\n",
              "                .geemap-colab {\n",
              "                    background-color: var(--colab-primary-surface-color, white);\n",
              "                }\n",
              "\n",
              "                .geemap-colab .jupyter-button {\n",
              "                    --jp-layout-color3: var(--colab-primary-surface-color, white);\n",
              "                }\n",
              "            </style>\n",
              "            "
            ]
          },
          "metadata": {}
        },
        {
          "output_type": "stream",
          "name": "stdout",
          "text": [
            "Computing statistics ...\n",
            "Generating URL ...\n",
            "Downloading data from https://earthengine.googleapis.com/v1/projects/bha5vya/tables/632d9338c0fbf301855e560e51718b74-2c86da793ae0632f5653079f511264b6:getFeatures\n",
            "Please wait ...\n",
            "Data downloaded to /root/Downloads/India_treecover.csv\n"
          ]
        }
      ]
    },
    {
      "cell_type": "code",
      "source": [
        "tree_2010=ee.ImageCollection(\"MODIS/006/MOD44B\").filterDate('2010-01-01', '2010-12-31').select(['Percent_Tree_Cover']).mean().clip(Districts)\n",
        "symbology=  [ \"#F7FCF5\", \"#E8F8E3\", \"#D9F4D2\", \"#CBF0C1\", \"#BEECB1\",\"#B0E7A2\", \"#A3E394\", \"#97DF86\", \"#8BDC79\", \"#7FD86C\",\"#74D460\", \"#6AD154\", \"#5FCE49\", \"#55CB3E\", \"#4CC834\",\"#42C52A\", \"#39C220\", \"#30C018\", \"#27BD10\", \"#1EBA08\",\"#16B700\", \"#13AE00\", \"#10A600\", \"#0D9E00\", \"#0A9600\",\n",
        "    \"#088E00\", \"#068600\", \"#057F00\", \"#047700\", \"#036F00\",\"#026800\", \"#016000\", \"#015900\", \"#015200\", \"#014B00\",\"#014400\", \"#013D00\", \"#013700\", \"#013000\", \"#012A00\",\"#012400\", \"#011E00\", \"#011800\", \"#011200\", \"#010C00\",\"#010600\", \"#010300\", \"#010100\", \"#000000\"]\n",
        "viz={'min':0,'max':100,\"palette\":symbology}\n",
        "map.addLayer(tree_2010,viz,'Tree Cover India')\n",
        "\n",
        "\n",
        "import os\n",
        "output_directory=os.path.join(os.path.expanduser('~'),'Downloads')\n",
        "India_treecover=os.path.join(output_directory,'India_treecover2010.csv')\n",
        "if not os.path.exists(output_directory):\n",
        "  os.makedirs(output_directory)\n",
        "import_map.zonal_stats(tree_2010,Districts,India_treecover,'MEAN',scale=250)\n"
      ],
      "metadata": {
        "colab": {
          "base_uri": "https://localhost:8080/",
          "height": 104
        },
        "id": "-p5w9HIz5L4w",
        "outputId": "cce1c1b7-806c-4609-93b8-fd2e0d4f7269"
      },
      "execution_count": null,
      "outputs": [
        {
          "output_type": "display_data",
          "data": {
            "text/plain": [
              "<IPython.core.display.HTML object>"
            ],
            "text/html": [
              "\n",
              "            <style>\n",
              "                .geemap-dark {\n",
              "                    --jp-widgets-color: white;\n",
              "                    --jp-widgets-label-color: white;\n",
              "                    --jp-ui-font-color1: white;\n",
              "                    --jp-layout-color2: #454545;\n",
              "                    background-color: #383838;\n",
              "                }\n",
              "\n",
              "                .geemap-dark .jupyter-button {\n",
              "                    --jp-layout-color3: #383838;\n",
              "                }\n",
              "\n",
              "                .geemap-colab {\n",
              "                    background-color: var(--colab-primary-surface-color, white);\n",
              "                }\n",
              "\n",
              "                .geemap-colab .jupyter-button {\n",
              "                    --jp-layout-color3: var(--colab-primary-surface-color, white);\n",
              "                }\n",
              "            </style>\n",
              "            "
            ]
          },
          "metadata": {}
        },
        {
          "output_type": "stream",
          "name": "stdout",
          "text": [
            "Computing statistics ...\n",
            "Generating URL ...\n",
            "Downloading data from https://earthengine.googleapis.com/v1/projects/bha5vya/tables/1d25a5f00285cfdbb1ebfdcce6224e76-1e812a7b0203991a0f24c1666d79fafb:getFeatures\n",
            "Please wait ...\n",
            "Data downloaded to /root/Downloads/India_treecover2010.csv\n"
          ]
        }
      ]
    },
    {
      "cell_type": "code",
      "source": [
        "tree_2020=ee.ImageCollection(\"MODIS/006/MOD44B\").filterDate('2020-01-01', '2020-12-31').select(['Percent_Tree_Cover']).mean().clip(Districts)\n",
        "symbology=  [ \"#F7FCF5\", \"#E8F8E3\", \"#D9F4D2\", \"#CBF0C1\", \"#BEECB1\",\"#B0E7A2\", \"#A3E394\", \"#97DF86\", \"#8BDC79\", \"#7FD86C\",\"#74D460\", \"#6AD154\", \"#5FCE49\", \"#55CB3E\", \"#4CC834\",\"#42C52A\", \"#39C220\", \"#30C018\", \"#27BD10\", \"#1EBA08\",\"#16B700\", \"#13AE00\", \"#10A600\", \"#0D9E00\", \"#0A9600\",\n",
        "    \"#088E00\", \"#068600\", \"#057F00\", \"#047700\", \"#036F00\",\"#026800\", \"#016000\", \"#015900\", \"#015200\", \"#014B00\",\"#014400\", \"#013D00\", \"#013700\", \"#013000\", \"#012A00\",\"#012400\", \"#011E00\", \"#011800\", \"#011200\", \"#010C00\",\"#010600\", \"#010300\", \"#010100\", \"#000000\"]\n",
        "viz={'min':0,'max':100,\"palette\":symbology}\n",
        "map.addLayer(tree_2020,viz,'Tree Cover India')\n",
        "\n",
        "\n",
        "import os\n",
        "output_directory=os.path.join(os.path.expanduser('~'),'Downloads')\n",
        "India_treecover=os.path.join(output_directory,'India_treecover2020.csv')\n",
        "if not os.path.exists(output_directory):\n",
        "  os.makedirs(output_directory)\n",
        "import_map.zonal_stats(tree_2020,Districts,India_treecover,'MEAN',scale=250)\n"
      ],
      "metadata": {
        "colab": {
          "base_uri": "https://localhost:8080/",
          "height": 104
        },
        "id": "7EPxaBlg5fkn",
        "outputId": "996c4cbc-e726-45ad-aa04-efe5e347a5eb"
      },
      "execution_count": null,
      "outputs": [
        {
          "output_type": "display_data",
          "data": {
            "text/plain": [
              "<IPython.core.display.HTML object>"
            ],
            "text/html": [
              "\n",
              "            <style>\n",
              "                .geemap-dark {\n",
              "                    --jp-widgets-color: white;\n",
              "                    --jp-widgets-label-color: white;\n",
              "                    --jp-ui-font-color1: white;\n",
              "                    --jp-layout-color2: #454545;\n",
              "                    background-color: #383838;\n",
              "                }\n",
              "\n",
              "                .geemap-dark .jupyter-button {\n",
              "                    --jp-layout-color3: #383838;\n",
              "                }\n",
              "\n",
              "                .geemap-colab {\n",
              "                    background-color: var(--colab-primary-surface-color, white);\n",
              "                }\n",
              "\n",
              "                .geemap-colab .jupyter-button {\n",
              "                    --jp-layout-color3: var(--colab-primary-surface-color, white);\n",
              "                }\n",
              "            </style>\n",
              "            "
            ]
          },
          "metadata": {}
        },
        {
          "output_type": "stream",
          "name": "stdout",
          "text": [
            "Computing statistics ...\n",
            "Generating URL ...\n",
            "Downloading data from https://earthengine.googleapis.com/v1/projects/bha5vya/tables/636fadf9f7313e382050c5566a77ce28-b36d504b4d8268bcee5a573fc0f5f6ec:getFeatures\n",
            "Please wait ...\n",
            "Data downloaded to /root/Downloads/India_treecover2020.csv\n"
          ]
        }
      ]
    }
  ]
}