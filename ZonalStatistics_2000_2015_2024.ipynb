{
  "nbformat": 4,
  "nbformat_minor": 0,
  "metadata": {
    "colab": {
      "provenance": [],
      "authorship_tag": "ABX9TyPco0LXIj339/zHGc9SDDfA",
      "include_colab_link": true
    },
    "kernelspec": {
      "name": "python3",
      "display_name": "Python 3"
    },
    "language_info": {
      "name": "python"
    }
  },
  "cells": [
    {
      "cell_type": "markdown",
      "metadata": {
        "id": "view-in-github",
        "colab_type": "text"
      },
      "source": [
        "<a href=\"https://colab.research.google.com/github/Bha5vya/Google-Earth-Engine-Basic-Code/blob/main/ZonalStatistics_2000_2015_2024.ipynb\" target=\"_parent\"><img src=\"https://colab.research.google.com/assets/colab-badge.svg\" alt=\"Open In Colab\"/></a>"
      ]
    },
    {
      "cell_type": "code",
      "execution_count": 2,
      "metadata": {
        "id": "A_f4SQAqyjFQ"
      },
      "outputs": [],
      "source": [
        "import geemap.geemap as import_map\n",
        "import ee"
      ]
    },
    {
      "cell_type": "code",
      "source": [
        "ee.Authenticate()\n",
        "ee.Initialize(project='bha5vya')\n",
        "map=import_map.Map()\n",
        "\n"
      ],
      "metadata": {
        "colab": {
          "base_uri": "https://localhost:8080/",
          "height": 17
        },
        "id": "zM-5BFuBysIr",
        "outputId": "b3c10028-7fe5-4947-8e6f-655a9caf6cf1"
      },
      "execution_count": 3,
      "outputs": [
        {
          "output_type": "display_data",
          "data": {
            "text/plain": [
              "<IPython.core.display.HTML object>"
            ],
            "text/html": [
              "\n",
              "            <style>\n",
              "                .geemap-dark {\n",
              "                    --jp-widgets-color: white;\n",
              "                    --jp-widgets-label-color: white;\n",
              "                    --jp-ui-font-color1: white;\n",
              "                    --jp-layout-color2: #454545;\n",
              "                    background-color: #383838;\n",
              "                }\n",
              "\n",
              "                .geemap-dark .jupyter-button {\n",
              "                    --jp-layout-color3: #383838;\n",
              "                }\n",
              "\n",
              "                .geemap-colab {\n",
              "                    background-color: var(--colab-primary-surface-color, white);\n",
              "                }\n",
              "\n",
              "                .geemap-colab .jupyter-button {\n",
              "                    --jp-layout-color3: var(--colab-primary-surface-color, white);\n",
              "                }\n",
              "            </style>\n",
              "            "
            ]
          },
          "metadata": {}
        }
      ]
    },
    {
      "cell_type": "code",
      "source": [
        "Districts=ee.FeatureCollection('projects/bha5vya/assets/India_districtboundaries')\n",
        "m.addLayer(Districts,{},\"Districts\")\n",
        "m\n"
      ],
      "metadata": {
        "colab": {
          "base_uri": "https://localhost:8080/",
          "height": 17
        },
        "collapsed": true,
        "id": "PIysjMKMzvBT",
        "outputId": "7ca71cb2-a9f3-46e4-a174-90671441bf4c"
      },
      "execution_count": 4,
      "outputs": [
        {
          "output_type": "display_data",
          "data": {
            "text/plain": [
              "<IPython.core.display.HTML object>"
            ],
            "text/html": [
              "\n",
              "            <style>\n",
              "                .geemap-dark {\n",
              "                    --jp-widgets-color: white;\n",
              "                    --jp-widgets-label-color: white;\n",
              "                    --jp-ui-font-color1: white;\n",
              "                    --jp-layout-color2: #454545;\n",
              "                    background-color: #383838;\n",
              "                }\n",
              "\n",
              "                .geemap-dark .jupyter-button {\n",
              "                    --jp-layout-color3: #383838;\n",
              "                }\n",
              "\n",
              "                .geemap-colab {\n",
              "                    background-color: var(--colab-primary-surface-color, white);\n",
              "                }\n",
              "\n",
              "                .geemap-colab .jupyter-button {\n",
              "                    --jp-layout-color3: var(--colab-primary-surface-color, white);\n",
              "                }\n",
              "            </style>\n",
              "            "
            ]
          },
          "metadata": {}
        }
      ]
    },
    {
      "cell_type": "code",
      "source": [
        "def get_tree_cover(year):\n",
        "    tree_cover = ee.ImageCollection(\"MODIS/006/MOD44B\") \\\n",
        "        .filterDate(f'{year}-01-01', f'{year}-12-31') \\\n",
        "        .select(['Percent_Tree_Cover']) \\\n",
        "        .mean() \\\n",
        "        .clip(Districts)\n",
        "    return tree_cover\n",
        "\n",
        "years = [2000, 2015, 2024]\n",
        "\n",
        "for year in years:\n",
        "    tree_cover = get_tree_cover(year)\n",
        "\n",
        "    task = ee.batch.Export.table.toDrive(\n",
        "        collection=tree_cover.reduceRegions(\n",
        "            collection=Districts,\n",
        "            reducer=ee.Reducer.mean(),\n",
        "            scale=250\n",
        "        ),\n",
        "        description=f'Tree_Cover_{year}',\n",
        "        folder='EarthEngineExports',\n",
        "        fileNamePrefix=f'Tree_Cover_{year}',\n",
        "        fileFormat='CSV'\n",
        "    )\n",
        "\n",
        "    task.start()\n",
        "    print(f\"Export task for Tree Cover {year} started. Check Earth Engine Tasks tab.\")"
      ],
      "metadata": {
        "colab": {
          "base_uri": "https://localhost:8080/",
          "height": 69
        },
        "id": "E_ENDeYZrxe2",
        "outputId": "f3b6e9c8-c6ad-49ed-9b5d-3e0539368f77"
      },
      "execution_count": 11,
      "outputs": [
        {
          "output_type": "display_data",
          "data": {
            "text/plain": [
              "<IPython.core.display.HTML object>"
            ],
            "text/html": [
              "\n",
              "            <style>\n",
              "                .geemap-dark {\n",
              "                    --jp-widgets-color: white;\n",
              "                    --jp-widgets-label-color: white;\n",
              "                    --jp-ui-font-color1: white;\n",
              "                    --jp-layout-color2: #454545;\n",
              "                    background-color: #383838;\n",
              "                }\n",
              "\n",
              "                .geemap-dark .jupyter-button {\n",
              "                    --jp-layout-color3: #383838;\n",
              "                }\n",
              "\n",
              "                .geemap-colab {\n",
              "                    background-color: var(--colab-primary-surface-color, white);\n",
              "                }\n",
              "\n",
              "                .geemap-colab .jupyter-button {\n",
              "                    --jp-layout-color3: var(--colab-primary-surface-color, white);\n",
              "                }\n",
              "            </style>\n",
              "            "
            ]
          },
          "metadata": {}
        },
        {
          "output_type": "stream",
          "name": "stdout",
          "text": [
            "Export task for Tree Cover 2000 started. Check Earth Engine Tasks tab.\n",
            "Export task for Tree Cover 2015 started. Check Earth Engine Tasks tab.\n",
            "Export task for Tree Cover 2024 started. Check Earth Engine Tasks tab.\n"
          ]
        }
      ]
    }
  ]
}